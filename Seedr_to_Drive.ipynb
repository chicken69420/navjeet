{
  "nbformat": 4,
  "nbformat_minor": 0,
  "metadata": {
    "colab": {
      "name": "Seedr  to Drive",
      "provenance": []
    },
    "kernelspec": {
      "display_name": "Python 3",
      "name": "python3"
    }
  },
  "cells": [
    {
      "cell_type": "code",
      "metadata": {
        "id": "I9Qme8K4NqOh"
      },
      "source": [
        "import requests\n",
        "import sys\n",
        "from shutil import copyfile"
      ],
      "execution_count": null,
      "outputs": []
    },
    {
      "cell_type": "code",
      "metadata": {
        "colab": {
          "base_uri": "https://localhost:8080/"
        },
        "id": "DTfKCFxsS_x4",
        "outputId": "b8f8551c-8eb3-41e3-966b-87ae87bb3e2e"
      },
      "source": [
        "from google.colab import drive\n",
        "drive.mount('/content/drive')"
      ],
      "execution_count": null,
      "outputs": [
        {
          "output_type": "stream",
          "text": [
            "Mounted at /content/drive\n"
          ],
          "name": "stdout"
        }
      ]
    },
    {
      "cell_type": "code",
      "metadata": {
        "id": "PJJJsRVFN6Nh"
      },
      "source": [
        "def transfer(link, name):\n",
        "  file_name = name\n",
        "  with open(file_name, \"wb\") as f:\n",
        "      print (\"Downloading %s\" % file_name)\n",
        "      response = requests.get(link, stream=True)\n",
        "      total_length = response.headers.get('content-length')\n",
        "      if total_length is None:\n",
        "          f.write(response.content)\n",
        "      else:\n",
        "          dl = 0\n",
        "          total_length = int(total_length)\n",
        "          for data in response.iter_content(chunk_size=524288):\n",
        "              dl += len(data)\n",
        "              f.write(data)\n",
        "              done = int(50 * dl / total_length)\n",
        "              sys.stdout.write(\"\\r[%s%s]\" % ('=' * done, ' ' * (50-done)) )    \n",
        "              sys.stdout.flush()\n",
        "  copyfile(name, 'drive/MyDrive/movies/'+ name)\n",
        "  print()"
      ],
      "execution_count": null,
      "outputs": []
    },
    {
      "cell_type": "code",
      "metadata": {
        "id": "1x8LKkPKLt3u"
      },
      "source": [
        "from bs4 import BeautifulSoup\r\n",
        "from random import choice, randint\r\n",
        "\r\n",
        "def damplips(url, cnt, search=''):\r\n",
        "  if search != '':\r\n",
        "    url = \"http://www.damplips.com/?s=\" + search\r\n",
        "  p = requests.get(url)\r\n",
        "  soup = BeautifulSoup(p.text, 'lxml')\r\n",
        "  videos = soup.find_all('video')\r\n",
        "\r\n",
        "  srcs = [i.find('source')['src'] for i in videos]\r\n",
        "  cnt = min(cnt, len(srcs))\r\n",
        "  for i in range(cnt):\r\n",
        "    print(videos[i])\r\n",
        "    idx = choice(range(len(srcs)))\r\n",
        "    src = srcs[idx]\r\n",
        "    print(src)\r\n",
        "    srcs.pop(idx)\r\n",
        "    transfer(src, str(randint(1, 200000000)) + '.mp4')"
      ],
      "execution_count": null,
      "outputs": []
    }
  ]
}